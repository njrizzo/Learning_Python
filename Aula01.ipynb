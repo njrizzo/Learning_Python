{
  "nbformat": 4,
  "nbformat_minor": 0,
  "metadata": {
    "colab": {
      "name": "Aula01.ipynb",
      "private_outputs": true,
      "provenance": [],
      "authorship_tag": "ABX9TyMrKp34T67vJ6D2oTX0Ti08",
      "include_colab_link": true
    },
    "kernelspec": {
      "name": "python3",
      "display_name": "Python 3"
    },
    "language_info": {
      "name": "python"
    }
  },
  "cells": [
    {
      "cell_type": "markdown",
      "metadata": {
        "id": "view-in-github",
        "colab_type": "text"
      },
      "source": [
        "<a href=\"https://colab.research.google.com/github/njrizzo/Learning_Python/blob/main/Aula01.ipynb\" target=\"_parent\"><img src=\"https://colab.research.google.com/assets/colab-badge.svg\" alt=\"Open In Colab\"/></a>"
      ]
    },
    {
      "cell_type": "code",
      "metadata": {
        "id": "onm_nAb9UngO"
      },
      "source": [
        "print (\"Olá Mundo\")"
      ],
      "execution_count": null,
      "outputs": []
    },
    {
      "cell_type": "code",
      "metadata": {
        "id": "XwZbG4mLU9vj"
      },
      "source": [
        "input(\"Digite seu nome    : \")\n",
        "input(\"Digite a sua idade : \")"
      ],
      "execution_count": null,
      "outputs": []
    },
    {
      "cell_type": "code",
      "metadata": {
        "id": "t5_lUMDSlTUw"
      },
      "source": [
        "a=10\n",
        "print (\"O valor de A = \",a)\n",
        "print (\"O valor de A = \",A) # Note que o nome da variável é a e não A"
      ],
      "execution_count": null,
      "outputs": []
    },
    {
      "cell_type": "code",
      "metadata": {
        "id": "_yn6_g0_mEvY"
      },
      "source": [
        "a=10                  # variável numérica\n",
        "nome=\"Fulano de tal\"  # variável string\n",
        "print(\"Meu nome é:\", nome, \"e minha idade é:\", a, \"anos\")"
      ],
      "execution_count": null,
      "outputs": []
    },
    {
      "cell_type": "code",
      "metadata": {
        "id": "pNSeyJNRmu6I"
      },
      "source": [
        "nome=\"Fulano de tal\"\n",
        "nomes=nome.split(\" \")\n",
        "for n in nomes:\n",
        "  print(n)"
      ],
      "execution_count": null,
      "outputs": []
    }
  ]
}